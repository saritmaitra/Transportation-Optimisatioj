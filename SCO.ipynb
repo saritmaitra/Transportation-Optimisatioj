{
 "cells": [
  {
   "cell_type": "markdown",
   "id": "0b133d94",
   "metadata": {},
   "source": [
    "## Optmisation use case\n",
    "### Drinks Distribution Problem"
   ]
  },
  {
   "cell_type": "code",
   "execution_count": 1,
   "id": "353791b8",
   "metadata": {},
   "outputs": [],
   "source": [
    "# pip install pulp"
   ]
  },
  {
   "cell_type": "code",
   "execution_count": 2,
   "id": "13fc4d69",
   "metadata": {},
   "outputs": [],
   "source": [
    "import pandas as pd\n",
    "from pulp import *\n",
    "\n",
    "import warnings\n",
    "warnings.filterwarnings(\"ignore\")"
   ]
  },
  {
   "cell_type": "code",
   "execution_count": 3,
   "id": "8ad3562d",
   "metadata": {},
   "outputs": [],
   "source": [
    "# Creates a list of all the supply nodes\n",
    "warehouses = [\"A\", \"B\"]"
   ]
  },
  {
   "cell_type": "code",
   "execution_count": 4,
   "id": "3fec2dd6",
   "metadata": {},
   "outputs": [],
   "source": [
    "# Creates a dictionary for the number of units of supply for each supply node\n",
    "supply = {\"A\": 1000, \"B\": 4000}"
   ]
  },
  {
   "cell_type": "code",
   "execution_count": 5,
   "id": "6e6785fb",
   "metadata": {},
   "outputs": [],
   "source": [
    "# Creates a dictionary for the number of units of demand for each demand node\n",
    "demand = {\n",
    "    \"1\": 500,\n",
    "    \"2\": 900,\n",
    "    \"3\": 1800,\n",
    "    \"4\": 200,\n",
    "    \"5\": 700,\n",
    "}"
   ]
  },
  {
   "cell_type": "code",
   "execution_count": 6,
   "id": "18704f64",
   "metadata": {},
   "outputs": [],
   "source": [
    "# Creates a list of all demand nodes\n",
    "restaurants = [\"1\", \"2\", \"3\", \"4\", \"5\"]"
   ]
  },
  {
   "cell_type": "code",
   "execution_count": 7,
   "id": "9ec4e5ac",
   "metadata": {},
   "outputs": [],
   "source": [
    "# Creates a list of costs of each transportation path\n",
    "costs = [  # restaurants\n",
    "    # 1 2 3 4 5\n",
    "    [2, 4, 5, 2, 1],  # A   Warehouses\n",
    "    [3, 1, 3, 2, 3],  # B\n",
    "]"
   ]
  },
  {
   "cell_type": "code",
   "execution_count": 8,
   "id": "c5793c8f",
   "metadata": {},
   "outputs": [],
   "source": [
    "# The cost data is made into a dictionary\n",
    "costs = makeDict([warehouses, restaurants], costs, 0)"
   ]
  },
  {
   "cell_type": "markdown",
   "id": "afc64a8c",
   "metadata": {},
   "source": [
    "### Initialize an instance of LpProblem to represent our model:"
   ]
  },
  {
   "cell_type": "code",
   "execution_count": 9,
   "id": "986697b9",
   "metadata": {},
   "outputs": [],
   "source": [
    "# Creates the 'prob' variable to contain the problem data\n",
    "problem = LpProblem(\"Drinks Distribution Problem\", LpMinimize)"
   ]
  },
  {
   "cell_type": "markdown",
   "id": "b4e75891",
   "metadata": {},
   "source": [
    "### List of possibe routes"
   ]
  },
  {
   "cell_type": "code",
   "execution_count": 10,
   "id": "f45f9bc1",
   "metadata": {},
   "outputs": [],
   "source": [
    "# Creates a list of tuples containing all the possible routes for transport\n",
    "routes = [(w, b) for w in warehouses for b in restaurants]"
   ]
  },
  {
   "cell_type": "markdown",
   "id": "87acce7a",
   "metadata": {},
   "source": [
    "### Define decision variables"
   ]
  },
  {
   "cell_type": "code",
   "execution_count": 11,
   "id": "9f230d47",
   "metadata": {},
   "outputs": [],
   "source": [
    "# A dictionary called 'Vars' is created to contain the referenced variables(the routes)\n",
    "vars = LpVariable.dicts(\"route\", (warehouses, restaurants), 0, None, LpInteger)"
   ]
  },
  {
   "cell_type": "markdown",
   "id": "9a0a90c0",
   "metadata": {},
   "source": [
    "The variables created determine the amount shipped on each route. The variables are defined\n",
    "as pulp.LpInteger therefore solutions must not ship fractional numbers of crates."
   ]
  },
  {
   "cell_type": "markdown",
   "id": "ec3c67b2",
   "metadata": {},
   "source": [
    "### Setting objective function:\n",
    "The objective is to minimise the total shipping cost of the solution.\n"
   ]
  },
  {
   "cell_type": "code",
   "execution_count": 12,
   "id": "4d3f072e",
   "metadata": {},
   "outputs": [],
   "source": [
    "# The objective function is added to 'prob' first\n",
    "problem += (\n",
    "    lpSum([vars[w][b] * costs[w][b] for (w, b) in routes]),\n",
    "    \"Sum_of_Transporting_Costs\",\n",
    ")"
   ]
  },
  {
   "cell_type": "markdown",
   "id": "f1c0ddb4",
   "metadata": {},
   "source": [
    "Now we have the objective function added and the model defined.\n",
    "\n",
    "These constraints ensure that amount shipped from each brewery is less than the supply available. The names given to the constraints will be preserved when an `.lp' file is created.\n",
    "\n",
    "## Constraints:\n",
    "\n",
    "### Supply constraint"
   ]
  },
  {
   "cell_type": "code",
   "execution_count": 13,
   "id": "1b6056db",
   "metadata": {},
   "outputs": [],
   "source": [
    "# Supply maximum constraints are added to prob for each supply node (warehouse)\n",
    "    \n",
    "for w in warehouses:\n",
    "    problem += (\n",
    "        lpSum([vars[w][b] for b in restaurants])<=supply[w],\\\n",
    "        \"Sum_of_Products_out_of_Warehouse_%s\" % w\n",
    "    )"
   ]
  },
  {
   "cell_type": "markdown",
   "id": "a89f452a",
   "metadata": {},
   "source": [
    "These constraints ensure that amount shipped to each bar is greater than the demand of the\n",
    "bar. These could also be equality constraints, depending on how the problem is modelled.\n",
    "\n",
    "### Demand constraint"
   ]
  },
  {
   "cell_type": "code",
   "execution_count": 14,
   "id": "a491ee4e",
   "metadata": {},
   "outputs": [],
   "source": [
    "# Demand minimum constraints are added to prob for each demand node (bar)\n",
    "restaurants_demand_constraint = {}\n",
    "for b in restaurants:\n",
    "    constraint = lpSum([vars[w][b] for w in warehouses])>=demand[b]\n",
    "    problem += constraint, \"Sum_of_Products_into_Restaurants_%s\"%b\n",
    "    restaurants_demand_constraint[b] = constraint"
   ]
  },
  {
   "cell_type": "code",
   "execution_count": 15,
   "id": "04b213b3",
   "metadata": {},
   "outputs": [
    {
     "name": "stdout",
     "output_type": "stream",
     "text": [
      "Solve problem: 1\n",
      "Status: Optimal\n",
      "route_A_1 = 300.0\n",
      "route_A_2 = 0.0\n",
      "route_A_3 = 0.0\n",
      "route_A_4 = 0.0\n",
      "route_A_5 = 700.0\n",
      "route_B_1 = 200.0\n",
      "route_B_2 = 900.0\n",
      "route_B_3 = 1800.0\n",
      "route_B_4 = 200.0\n",
      "route_B_5 = 0.0\n",
      "Total Cost of Transportation =  8600.0\n",
      "Solve problem: 1\n",
      "Status: Optimal\n",
      "route_A_1 = 300.0\n",
      "route_A_2 = 0.0\n",
      "route_A_3 = 0.0\n",
      "route_A_4 = 0.0\n",
      "route_A_5 = 700.0\n",
      "route_B_1 = 210.0\n",
      "route_B_2 = 900.0\n",
      "route_B_3 = 1800.0\n",
      "route_B_4 = 200.0\n",
      "route_B_5 = 0.0\n",
      "Total Cost of Transportation =  8630.0\n",
      "Solve problem: 1\n",
      "Status: Optimal\n",
      "route_A_1 = 300.0\n",
      "route_A_2 = 0.0\n",
      "route_A_3 = 0.0\n",
      "route_A_4 = 0.0\n",
      "route_A_5 = 700.0\n",
      "route_B_1 = 220.0\n",
      "route_B_2 = 900.0\n",
      "route_B_3 = 1800.0\n",
      "route_B_4 = 200.0\n",
      "route_B_5 = 0.0\n",
      "Total Cost of Transportation =  8660.0\n",
      "Solve problem: 1\n",
      "Status: Optimal\n",
      "route_A_1 = 300.0\n",
      "route_A_2 = 0.0\n",
      "route_A_3 = 0.0\n",
      "route_A_4 = 0.0\n",
      "route_A_5 = 700.0\n",
      "route_B_1 = 230.0\n",
      "route_B_2 = 900.0\n",
      "route_B_3 = 1800.0\n",
      "route_B_4 = 200.0\n",
      "route_B_5 = 0.0\n",
      "Total Cost of Transportation =  8690.0\n",
      "Solve problem: 1\n",
      "Status: Optimal\n",
      "route_A_1 = 300.0\n",
      "route_A_2 = 0.0\n",
      "route_A_3 = 0.0\n",
      "route_A_4 = 0.0\n",
      "route_A_5 = 700.0\n",
      "route_B_1 = 240.0\n",
      "route_B_2 = 900.0\n",
      "route_B_3 = 1800.0\n",
      "route_B_4 = 200.0\n",
      "route_B_5 = 0.0\n",
      "Total Cost of Transportation =  8720.0\n",
      "Solve problem: 1\n",
      "Status: Optimal\n",
      "route_A_1 = 300.0\n",
      "route_A_2 = 0.0\n",
      "route_A_3 = 0.0\n",
      "route_A_4 = 0.0\n",
      "route_A_5 = 700.0\n",
      "route_B_1 = 250.0\n",
      "route_B_2 = 900.0\n",
      "route_B_3 = 1800.0\n",
      "route_B_4 = 200.0\n",
      "route_B_5 = 0.0\n",
      "Total Cost of Transportation =  8750.0\n",
      "Solve problem: 1\n",
      "Status: Optimal\n",
      "route_A_1 = 300.0\n",
      "route_A_2 = 0.0\n",
      "route_A_3 = 0.0\n",
      "route_A_4 = 0.0\n",
      "route_A_5 = 700.0\n",
      "route_B_1 = 260.0\n",
      "route_B_2 = 900.0\n",
      "route_B_3 = 1800.0\n",
      "route_B_4 = 200.0\n",
      "route_B_5 = 0.0\n",
      "Total Cost of Transportation =  8780.0\n",
      "Solve problem: 1\n",
      "Status: Optimal\n",
      "route_A_1 = 300.0\n",
      "route_A_2 = 0.0\n",
      "route_A_3 = 0.0\n",
      "route_A_4 = 0.0\n",
      "route_A_5 = 700.0\n",
      "route_B_1 = 270.0\n",
      "route_B_2 = 900.0\n",
      "route_B_3 = 1800.0\n",
      "route_B_4 = 200.0\n",
      "route_B_5 = 0.0\n",
      "Total Cost of Transportation =  8810.0\n",
      "Solve problem: 1\n",
      "Status: Optimal\n",
      "route_A_1 = 300.0\n",
      "route_A_2 = 0.0\n",
      "route_A_3 = 0.0\n",
      "route_A_4 = 0.0\n",
      "route_A_5 = 700.0\n",
      "route_B_1 = 280.0\n",
      "route_B_2 = 900.0\n",
      "route_B_3 = 1800.0\n",
      "route_B_4 = 200.0\n",
      "route_B_5 = 0.0\n",
      "Total Cost of Transportation =  8840.0\n",
      "Solve problem: 1\n",
      "Status: Optimal\n",
      "route_A_1 = 300.0\n",
      "route_A_2 = 0.0\n",
      "route_A_3 = 0.0\n",
      "route_A_4 = 0.0\n",
      "route_A_5 = 700.0\n",
      "route_B_1 = 290.0\n",
      "route_B_2 = 900.0\n",
      "route_B_3 = 1800.0\n",
      "route_B_4 = 200.0\n",
      "route_B_5 = 0.0\n",
      "Total Cost of Transportation =  8870.0\n",
      "Solve problem: 1\n",
      "Status: Optimal\n",
      "route_A_1 = 300.0\n",
      "route_A_2 = 0.0\n",
      "route_A_3 = 0.0\n",
      "route_A_4 = 0.0\n",
      "route_A_5 = 700.0\n",
      "route_B_1 = 300.0\n",
      "route_B_2 = 900.0\n",
      "route_B_3 = 1800.0\n",
      "route_B_4 = 200.0\n",
      "route_B_5 = 0.0\n",
      "Total Cost of Transportation =  8900.0\n"
     ]
    }
   ],
   "source": [
    "# The problem data is written to an .lp file\n",
    "problem.writeLP(\"DrinksDistributionProblem.lp\")\n",
    "for demand in range(500, 601, 10):\n",
    "    # reoptimise the problem by increasing demand at bar '1'\n",
    "    # note the constant is stored as the LHS constant not the RHS of the constraint\n",
    "    restaurants_demand_constraint['1'].constant = - demand\n",
    "    #or alternatively,\n",
    "    #prob.constraints[\"Sum_of_Products_into_Restaurants_1\"].constant = - demand\n",
    "\n",
    "    # The problem is solved using PuLP's choice of Solver\n",
    "    print('Solve problem:', problem.solve())\n",
    "\n",
    "    # The status of the solution \n",
    "    print(\"Status:\", LpStatus[problem.status])\n",
    "\n",
    "    # Each of the variables with it's resolved optimum value\n",
    "    for v in problem.variables():\n",
    "        print(v.name, \"=\", v.varValue)\n",
    "\n",
    "    # The optimised objective function value \n",
    "    print(\"Total Cost of Transportation = \", value(problem.objective))"
   ]
  },
  {
   "cell_type": "code",
   "execution_count": 16,
   "id": "c937d22b",
   "metadata": {},
   "outputs": [
    {
     "name": "stdout",
     "output_type": "stream",
     "text": [
      "route_A_1 = 300.0\n",
      "route_A_5 = 700.0\n",
      "route_B_1 = 300.0\n",
      "route_B_2 = 900.0\n",
      "route_B_3 = 1800.0\n",
      "route_B_4 = 200.0\n"
     ]
    }
   ],
   "source": [
    "for v in problem.variables():\n",
    "    if v.varValue > 0:\n",
    "        print(v.name, \"=\", v.varValue)"
   ]
  },
  {
   "cell_type": "code",
   "execution_count": 18,
   "id": "fc0eb607",
   "metadata": {},
   "outputs": [
    {
     "name": "stdout",
     "output_type": "stream",
     "text": [
      "Total transportation cost: 8900.0\n"
     ]
    }
   ],
   "source": [
    "print('Total transportation cost:', value(problem.objective))"
   ]
  },
  {
   "cell_type": "code",
   "execution_count": null,
   "id": "332abec9",
   "metadata": {},
   "outputs": [],
   "source": []
  }
 ],
 "metadata": {
  "kernelspec": {
   "display_name": "Python 3 (ipykernel)",
   "language": "python",
   "name": "python3"
  },
  "language_info": {
   "codemirror_mode": {
    "name": "ipython",
    "version": 3
   },
   "file_extension": ".py",
   "mimetype": "text/x-python",
   "name": "python",
   "nbconvert_exporter": "python",
   "pygments_lexer": "ipython3",
   "version": "3.8.12"
  }
 },
 "nbformat": 4,
 "nbformat_minor": 5
}
